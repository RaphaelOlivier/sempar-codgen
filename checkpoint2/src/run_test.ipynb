{
 "cells": [
  {
   "cell_type": "code",
   "execution_count": 1,
   "metadata": {},
   "outputs": [],
   "source": [
    "from importlib import reload\n",
    "import grammar\n",
    "import io_tools\n",
    "\n",
    "grammar = reload(grammar)\n",
    "io_tools = reload(io_tools)"
   ]
  },
  {
   "cell_type": "code",
   "execution_count": 2,
   "metadata": {},
   "outputs": [],
   "source": [
    "mode = \"django\""
   ]
  },
  {
   "cell_type": "code",
   "execution_count": 3,
   "metadata": {},
   "outputs": [],
   "source": [
    "indexer = grammar.Indexer(mode)"
   ]
  },
  {
   "cell_type": "code",
   "execution_count": 4,
   "metadata": {},
   "outputs": [],
   "source": [
    "target_train_dataset = io_tools.json_to_tree_dataset(\"../../data/django_dataset/django.train.json\",indexer)"
   ]
  },
  {
   "cell_type": "code",
   "execution_count": 5,
   "metadata": {},
   "outputs": [
    {
     "data": {
      "text/plain": [
       "tree.OracleTree"
      ]
     },
     "execution_count": 5,
     "metadata": {},
     "output_type": "execute_result"
    }
   ],
   "source": [
    "type(target_train_dataset[0])"
   ]
  },
  {
   "cell_type": "code",
   "execution_count": 6,
   "metadata": {},
   "outputs": [],
   "source": [
    "import dynet as dy\n",
    "import time\n",
    "import random\n",
    "import math\n",
    "import sys\n",
    "from argparse import ArgumentParser\n",
    "from collections import Counter, defaultdict\n"
   ]
  },
  {
   "cell_type": "code",
   "execution_count": 7,
   "metadata": {},
   "outputs": [
    {
     "name": "stdout",
     "output_type": "stream",
     "text": [
      "Using Django dataset to generate the indexer...\n",
      "Source vocabulary size: 7926\n"
     ]
    }
   ],
   "source": [
    "import source_dataset\n",
    "source_dataset = reload(source_dataset)\n",
    "sourceDataset = source_dataset.SourceDataset(mode)"
   ]
  },
  {
   "cell_type": "code",
   "execution_count": 8,
   "metadata": {},
   "outputs": [],
   "source": [
    "vocab_length_source = sourceDataset.vocab_length\n",
    "vocab_length_target = indexer.vocab_length\n",
    "vocab_length_nodes = indexer.node_length\n",
    "vocab_length_rules = indexer.rule_length"
   ]
  },
  {
   "cell_type": "code",
   "execution_count": 18,
   "metadata": {},
   "outputs": [],
   "source": [
    "import tree\n",
    "tree = reload(tree)"
   ]
  },
  {
   "cell_type": "code",
   "execution_count": 19,
   "metadata": {},
   "outputs": [],
   "source": [
    "import model1\n",
    "target_train_dataset = io_tools.json_to_tree_dataset(\"../../data/django_dataset/django.train.json\",indexer)\n",
    "args = model1.args\n",
    "model1 = reload(model1)\n",
    "net = model1.ASTNet(args=args, vocabLengthSource=vocab_length_source,\n",
    "                       vocabLengthActionRule=vocab_length_rules, vocabLengthNodes=vocab_length_nodes, \n",
    "                       vocabLengthTarget=vocab_length_target)\n",
    "trainer = dy.AdamTrainer(net.model)\n",
    "net.model.populate(\"tmp.model\")"
   ]
  },
  {
   "cell_type": "code",
   "execution_count": 20,
   "metadata": {
    "scrolled": true
   },
   "outputs": [
    {
     "name": "stdout",
     "output_type": "stream",
     "text": [
      "100 : 23.412464141845703\n",
      "200 : 18.471939086914062\n",
      "300 : 39.91124725341797\n",
      "400 : 0.0060596466064453125\n",
      "500 : 23.73493766784668\n",
      "600 : 11.579529762268066\n",
      "700 : 49.8653564453125\n",
      "800 : 23.06100082397461\n",
      "900 : 29.828861236572266\n",
      "1000 : 22.65554428100586\n",
      "1100 : 8.984535217285156\n",
      "1200 : 41.802528381347656\n",
      "1300 : 26.173505783081055\n",
      "1400 : 27.985639572143555\n",
      "1500 : 38.709171295166016\n",
      "1600 : 22.292112350463867\n",
      "1700 : 0.007303714752197266\n",
      "1800 : 16.796676635742188\n",
      "1900 : 8.287311553955078\n",
      "2000 : 7.871286869049072\n",
      "2100 : 29.087202072143555\n",
      "2200 : 17.089454650878906\n",
      "2300 : 32.592750549316406\n",
      "2400 : 9.142014503479004\n",
      "2500 : 13.20496940612793\n",
      "2600 : 0.009135007858276367\n",
      "2700 : 202.919677734375\n",
      "2800 : 44.103206634521484\n",
      "2900 : 80.05491638183594\n",
      "3000 : 10.027997016906738\n",
      "3100 : 153.58480834960938\n",
      "3200 : 165.8301544189453\n",
      "3300 : 35.62496566772461\n",
      "3400 : 81.61805725097656\n",
      "3500 : 14.399227142333984\n",
      "3600 : 26.941598892211914\n",
      "3700 : 92.30233764648438\n",
      "3800 : 41.28119659423828\n",
      "3900 : 81.2020263671875\n",
      "4000 : 17.675535202026367\n",
      "4100 : 45.377647399902344\n",
      "4200 : 63.282344818115234\n",
      "4300 : 0.04219317436218262\n",
      "4400 : 3.30318021774292\n",
      "4500 : 4.487450122833252\n",
      "4600 : 14.506294250488281\n",
      "4700 : 23.199861526489258\n",
      "4800 : 117.55290222167969\n",
      "4900 : 2.322355270385742\n",
      "5000 : 14.88656997680664\n",
      "5100 : 62.118865966796875\n",
      "5200 : 81.74134063720703\n",
      "5300 : 16.014549255371094\n",
      "5400 : 29.852439880371094\n",
      "5500 : 21.086172103881836\n",
      "5600 : 4.640965461730957\n",
      "5700 : 55.96778106689453\n",
      "5800 : 59.26509475708008\n",
      "5900 : 11.905302047729492\n",
      "6000 : 2.650886297225952\n",
      "6100 : 0.014233112335205078\n",
      "6200 : 61.93619155883789\n",
      "6300 : 0.00581812858581543\n",
      "6400 : 23.540470123291016\n",
      "6500 : 9.606451034545898\n",
      "6600 : 37.520606994628906\n",
      "6700 : 8.813519477844238\n",
      "6800 : 11.98839282989502\n",
      "6900 : 0.006057024002075195\n",
      "7000 : 50.4424934387207\n",
      "7100 : 7.711411952972412\n",
      "7200 : 13.538976669311523\n",
      "7300 : 2.2629501819610596\n",
      "7400 : 12.161800384521484\n",
      "7500 : 12.768150329589844\n",
      "7600 : 46.7782096862793\n",
      "7700 : 35.42387390136719\n",
      "7800 : 14.488061904907227\n",
      "7900 : 63.80593490600586\n",
      "8000 : 22.314746856689453\n",
      "8100 : 17.4156436920166\n",
      "8200 : 21.913787841796875\n",
      "8300 : 0.0020313262939453125\n",
      "8400 : 30.418838500976562\n",
      "8500 : 53.636932373046875\n",
      "8600 : 0.0037169456481933594\n",
      "8700 : 21.027694702148438\n",
      "8800 : 31.516695022583008\n",
      "8900 : 46.42689514160156\n",
      "9000 : 35.33666229248047\n",
      "9100 : 0.002730846405029297\n",
      "9200 : 76.59732055664062\n",
      "9300 : 12.454273223876953\n",
      "9400 : 29.18501853942871\n",
      "9500 : 8.153578758239746\n",
      "9600 : 12.333806991577148\n",
      "9700 : 83.45925903320312\n",
      "9800 : 15.901329040527344\n",
      "9900 : 46.67405319213867\n",
      "10000 : 41.675262451171875\n",
      "10100 : 5.024672031402588\n",
      "10200 : 97.68282318115234\n",
      "10300 : 21.39722442626953\n",
      "10400 : 23.903785705566406\n",
      "10500 : 6.198630332946777\n",
      "10600 : 102.8178939819336\n",
      "10700 : 33.54697799682617\n",
      "10800 : 46.914764404296875\n",
      "10900 : 0.004444599151611328\n",
      "11000 : 28.823394775390625\n",
      "11100 : 14.895822525024414\n",
      "11200 : 17.193912506103516\n",
      "11300 : 0.002857208251953125\n",
      "11400 : 25.66769790649414\n",
      "11500 : 10.338071823120117\n",
      "11600 : 26.679433822631836\n",
      "11700 : 112.02316284179688\n",
      "11800 : 29.94122886657715\n",
      "11900 : 15.113642692565918\n",
      "12000 : 2.7612814903259277\n",
      "12100 : 41.452640533447266\n",
      "12200 : 31.329952239990234\n",
      "12300 : 16.18259048461914\n",
      "12400 : 0.0019464492797851562\n",
      "12500 : 23.501161575317383\n",
      "12600 : 9.301576614379883\n",
      "12700 : 10.808836936950684\n",
      "12800 : 15.133010864257812\n",
      "12900 : 42.867164611816406\n",
      "13000 : 68.60618591308594\n",
      "13100 : 15.743165016174316\n",
      "13200 : 0.0021686553955078125\n",
      "13300 : 29.88928985595703\n",
      "13400 : 45.7470817565918\n",
      "13500 : 48.935020446777344\n",
      "13600 : 68.11316680908203\n",
      "13700 : 15.898711204528809\n",
      "13800 : 28.367650985717773\n",
      "13900 : 93.80738830566406\n",
      "14000 : 11.921167373657227\n",
      "14100 : 27.37804412841797\n",
      "14200 : 28.141799926757812\n",
      "14300 : 23.371557235717773\n",
      "14400 : 18.711336135864258\n",
      "14500 : 6.9620795249938965\n",
      "14600 : 15.91360855102539\n",
      "14700 : 42.599815368652344\n",
      "14800 : 0.000484466552734375\n",
      "14900 : 45.25778579711914\n",
      "15000 : 36.06340026855469\n",
      "15100 : 19.97305679321289\n",
      "15200 : 32.74503707885742\n",
      "15300 : 28.960901260375977\n",
      "15400 : 70.42735290527344\n",
      "15500 : 24.75351905822754\n",
      "15600 : 36.207557678222656\n",
      "15700 : 9.74777603149414\n",
      "15800 : 15.184017181396484\n",
      "15900 : 55.462955474853516\n",
      "16000 : 7.636992454528809\n"
     ]
    }
   ],
   "source": [
    "def train():\n",
    "    for i in range(0, len(target_train_dataset)):\n",
    "        input_s, output_s = sourceDataset.train_index[i], target_train_dataset[i]\n",
    "        output_s.set_to_root()\n",
    "        output_s.set_query(input_s)\n",
    "        # print(input_s,output_s.current_node)\n",
    "        # print(type(output_s))\n",
    "        all_losses = net.forward_prop(input_s, output_s, mode = \"train\")\n",
    "        loss = dy.sum_batches(dy.esum(all_losses))\n",
    "        loss.backward()\n",
    "        trainer.update()\n",
    "\n",
    "        if (i+1)%100==0:\n",
    "            print(i+1,\":\",loss.value())\n",
    "    net.model.save(\"tmp.model\")\n",
    "train()"
   ]
  },
  {
   "cell_type": "code",
   "execution_count": null,
   "metadata": {},
   "outputs": [
    {
     "name": "stdout",
     "output_type": "stream",
     "text": [
      "[2, 3, 4, 5, 6, 7, 8, 9, 10, 1]\n"
     ]
    }
   ],
   "source": [
    "net.model.populate(\"tmp.model\")\n",
    "input_s = sourceDataset.train_index[0]\n",
    "print(input_s)\n",
    "output_t = tree.BuildingTree(indexer, input_s)\n",
    "output_t = net.forward_prop(input_s, output_t, mode = \"predict\")"
   ]
  },
  {
   "cell_type": "code",
   "execution_count": 93,
   "metadata": {},
   "outputs": [
    {
     "name": "stdout",
     "output_type": "stream",
     "text": [
      "None\n"
     ]
    }
   ],
   "source": [
    "print(output_t)"
   ]
  }
 ],
 "metadata": {
  "kernelspec": {
   "display_name": "Python 3",
   "language": "python",
   "name": "python3"
  },
  "language_info": {
   "codemirror_mode": {
    "name": "ipython",
    "version": 3
   },
   "file_extension": ".py",
   "mimetype": "text/x-python",
   "name": "python",
   "nbconvert_exporter": "python",
   "pygments_lexer": "ipython3",
   "version": "3.6.4"
  }
 },
 "nbformat": 4,
 "nbformat_minor": 2
}
